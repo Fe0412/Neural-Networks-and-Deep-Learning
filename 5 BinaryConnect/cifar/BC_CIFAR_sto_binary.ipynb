{
 "cells": [
  {
   "cell_type": "markdown",
   "metadata": {},
   "source": [
    "This notebook is for training the network for CIFAR10 dataset using a network with stochastic binarization."
   ]
  },
  {
   "cell_type": "code",
   "execution_count": 1,
   "metadata": {
    "collapsed": false
   },
   "outputs": [
    {
     "name": "stdout",
     "output_type": "stream",
     "text": [
      "env: THEANO_FLAGS=floatX=float32, device=gpu3\n"
     ]
    },
    {
     "name": "stderr",
     "output_type": "stream",
     "text": [
      "Using gpu device 3: GeForce GTX TITAN X (CNMeM is disabled, cuDNN Version is too old. Update to v5, was 4004.)\n"
     ]
    }
   ],
   "source": [
    "%env THEANO_FLAGS=floatX=float32, device=gpu3\n",
    "import numpy as np\n",
    "import theano\n",
    "import theano.tensor as T \n",
    "import lasagne\n",
    "from __future__ import print_function\n",
    "import BC_layers\n",
    "import BC_utils\n",
    "from pylearn2.datasets.zca_dataset import ZCA_Dataset\n",
    "from pylearn2.utils import serial\n",
    "import timeit\n",
    "import inspect\n",
    "import time\n",
    "import logging\n",
    "from lasagne.layers import batch_norm"
   ]
  },
  {
   "cell_type": "markdown",
   "metadata": {},
   "source": [
    "The original implementation use a script for pre-processing. I also found preprocessing script [here](https://github.com/lisa-lab/pylearn2/blob/master/pylearn2/scripts/papers/maxout/svhn_preprocessing.py), and it seems that it is from the codes for Maxout Network. So here in order to make sure I have the same preprocessing result, I use the same code in the link.\n",
    "\n",
    "Moreover, the code for downloading and splitting the data is from [here](https://raw.githubusercontent.com/lisa-lab/pylearn2/master/pylearn2/scripts/datasets/download_svhn.sh), also in the pylearn2 library. Although we can also use the code in the previous homeworks, here I use that code for consistency of the overall training."
   ]
  },
  {
   "cell_type": "code",
   "execution_count": 2,
   "metadata": {
    "collapsed": true
   },
   "outputs": [],
   "source": [
    "# make logging functions\n",
    "\n",
    "logger = logging.getLogger('')\n",
    "logger.setLevel(logging.DEBUG)\n",
    "fh = logging.FileHandler('experiment.log')\n",
    "fh.setLevel(logging.DEBUG)\n",
    "ch = logging.StreamHandler()\n",
    "ch.setLevel(logging.DEBUG)\n",
    "formatter = logging.Formatter('%(message)s')\n",
    "ch.setFormatter(formatter)\n",
    "fh.setFormatter(formatter)\n",
    "logger.addHandler(ch)\n",
    "logger.addHandler(fh)"
   ]
  },
  {
   "cell_type": "markdown",
   "metadata": {},
   "source": [
    "Again, here I use the same code to load the data."
   ]
  },
  {
   "cell_type": "code",
   "execution_count": 3,
   "metadata": {
    "collapsed": false
   },
   "outputs": [
    {
     "name": "stdout",
     "output_type": "stream",
     "text": [
      "Loading CIFAR-10 dataset...\n"
     ]
    }
   ],
   "source": [
    "train_set_size = 45000\n",
    "    \n",
    "print('Loading CIFAR-10 dataset...')\n",
    "    \n",
    "preprocessor = serial.load(\"${PYLEARN2_DATA_PATH}/cifar10/pylearn2_gcn_whitened/preprocessor.pkl\")\n",
    "\n",
    "train_set = ZCA_Dataset(\n",
    "    preprocessed_dataset=serial.load(\"${PYLEARN2_DATA_PATH}/cifar10/pylearn2_gcn_whitened/train.pkl\"), \n",
    "    preprocessor = preprocessor,\n",
    "    start=0, stop = train_set_size)\n",
    "\n",
    "valid_set = ZCA_Dataset(\n",
    "    preprocessed_dataset= serial.load(\"${PYLEARN2_DATA_PATH}/cifar10/pylearn2_gcn_whitened/train.pkl\"), \n",
    "    preprocessor = preprocessor,\n",
    "    start=45000, stop = 50000)  \n",
    "    \n",
    "test_set = ZCA_Dataset(\n",
    "    preprocessed_dataset= serial.load(\"${PYLEARN2_DATA_PATH}/cifar10/pylearn2_gcn_whitened/test.pkl\"), \n",
    "    preprocessor = preprocessor)\n",
    "        \n",
    "# bc01 format\n",
    "train_set.X = train_set.X.reshape(-1,3,32,32)\n",
    "valid_set.X = valid_set.X.reshape(-1,3,32,32)\n",
    "test_set.X = test_set.X.reshape(-1,3,32,32)\n",
    "    \n",
    "# flatten targets\n",
    "train_set.y = np.hstack(train_set.y)\n",
    "valid_set.y = np.hstack(valid_set.y)\n",
    "test_set.y = np.hstack(test_set.y)\n",
    "\n",
    "# for hinge loss \n",
    "# make targets onehot\n",
    "def make_onehot(dataset, category=10):\n",
    "    n_dataset = np.zeros((dataset.shape[0], category), dtype=np.int32)\n",
    "    n_dataset[np.arange(n_dataset.shape[0]), dataset] = 1\n",
    "    return n_dataset\n",
    "\n",
    "train_set.y = np.subtract(np.multiply(2,make_onehot(train_set.y)),1).astype('int32')\n",
    "valid_set.y = np.subtract(np.multiply(2,make_onehot(valid_set.y)),1).astype('int32')\n",
    "test_set.y = np.subtract(np.multiply(2,make_onehot(test_set.y)),1).astype('int32')"
   ]
  },
  {
   "cell_type": "code",
   "execution_count": 4,
   "metadata": {
    "collapsed": false
   },
   "outputs": [],
   "source": [
    "# make dataset shared variables\n",
    "from theano import shared\n",
    "train_set_x = shared(train_set.X, borrow=True)\n",
    "train_set_y = shared(train_set.y, borrow=True)\n",
    "valid_set_x = shared(valid_set.X, borrow=True)\n",
    "valid_set_y = shared(valid_set.y, borrow=True)\n",
    "test_set_x = shared(test_set.X, borrow=True)\n",
    "test_set_y = shared(test_set.y, borrow=True)"
   ]
  },
  {
   "cell_type": "code",
   "execution_count": 5,
   "metadata": {
    "collapsed": false
   },
   "outputs": [],
   "source": [
    "def make_network(input_shape, net_arch, net_spec):\n",
    "    assert len(net_arch) == len(net_spec)\n",
    "    \n",
    "    layer = lasagne.layers.InputLayer(shape=input_shape)\n",
    "    \n",
    "    layers = {'in': layer}\n",
    "\n",
    "    for i in range(len(net_arch)):\n",
    "        if net_arch[i]=='noise':\n",
    "            lasagne.layers.GaussianNoiseLayer(layer,**net_spec[i])\n",
    "        \n",
    "        elif net_arch[i]=='dropout':\n",
    "            layer = lasagne.layers.DropoutLayer(layer,**net_spec[i])\n",
    "        \n",
    "        elif net_arch[i]=='reshape':\n",
    "            layer = lasagne.layers.ReshapeLayer(layer,**net_spec[i])\n",
    "        \n",
    "        elif net_arch[i]=='cnn':\n",
    "            layer = BC_layers.Conv2DLayer(layer, **net_spec[i])\n",
    "        \n",
    "        elif net_arch[i]=='bn':\n",
    "            layer = batch_norm(layer, **net_spec[i])\n",
    "            \n",
    "        elif net_arch[i]=='maxpool':\n",
    "            layer = lasagne.layers.MaxPool2DLayer(layer, **net_spec[i])\n",
    "            \n",
    "        elif net_arch[i][:11]=='feedforward':\n",
    "            if net_arch[i]=='feedforward_tanh':\n",
    "                nonlinearity = lasagne.nonlinearities.tanh\n",
    "            elif net_arch[i]=='feedforward_sigmoid':\n",
    "                nonlinearity = lasagne.nonlinearities.sigmoid\n",
    "            elif net_arch[i]=='feedforward_softmax':\n",
    "                nonlinearity = lasagne.nonlinearities.softmax\n",
    "            elif net_arch[i]=='feedforward_linear':\n",
    "                nonlinearity = lasagne.nonlinearities.linear\n",
    "            elif net_arch[i]=='feedforward_rectify':\n",
    "                nonlinearity = lasagne.nonlinearities.rectify\n",
    "            elif net_arch[i]=='feedforward_leaky':\n",
    "                nonlinearity = lasagne.nonlinearities.leaky_rectify\n",
    "            elif net_arch[i]=='feedforward_identity':\n",
    "                nonlinearity = lasagne.nonlinearities.identity\n",
    "                \n",
    "            layer = BC_layers.DenseLayer(layer,nonlinearity=nonlinearity,**net_spec[i])\n",
    "                \n",
    "                \n",
    "    layers['out'] = layer\n",
    "    return layers"
   ]
  },
  {
   "cell_type": "code",
   "execution_count": 6,
   "metadata": {
    "collapsed": false
   },
   "outputs": [
    {
     "name": "stderr",
     "output_type": "stream",
     "text": [
      "INFO:root:Computing function for training...\n",
      "Computing function for training...\n",
      "INFO:root:Compiling cost function for testing...\n",
      "Compiling cost function for testing...\n"
     ]
    },
    {
     "name": "stdout",
     "output_type": "stream",
     "text": [
      "Time spent:  9.88147711754\n",
      "Time spent: "
     ]
    },
    {
     "name": "stderr",
     "output_type": "stream",
     "text": [
      "INFO:root:Compiling cost function for validation...\n",
      "Compiling cost function for validation...\n"
     ]
    },
    {
     "name": "stdout",
     "output_type": "stream",
     "text": [
      " 10.9820649624\n",
      "Time spent:  11.6341581345\n"
     ]
    }
   ],
   "source": [
    "binary = True\n",
    "stochastic = True\n",
    "batch_size = 50\n",
    "learning_rate = 3e-3\n",
    "n_epoch = 250\n",
    "\n",
    "\n",
    "net_arch=['cnn','bn','cnn','maxpool','bn','cnn','bn','cnn','maxpool','bn','cnn','bn','cnn','maxpool','bn',\n",
    "         'feedforward_rectify', 'bn', 'feedforward_rectify', 'bn', 'feedforward_identity', 'bn']\n",
    "\n",
    "net_spec=[{'binary':binary,'stochastic':stochastic,'num_filters':64,'filter_size':(3,3),'pad':1}, \n",
    "          {'name': 'batch norm 1'}, \n",
    "          {'binary':binary,'stochastic':stochastic,'num_filters':64,'filter_size':(3,3),'pad':1}, \n",
    "          {'pool_size':(2, 2)}, \n",
    "          {'name': 'batch norm 2'}, \n",
    "          {'binary':binary,'stochastic':stochastic,'num_filters':128,'filter_size':(3,3),'pad':1}, \n",
    "          {'name': 'batch norm 3'}, \n",
    "          {'binary':binary,'stochastic':stochastic,'num_filters':128,'filter_size':(3,3),'pad':1}, \n",
    "          {'pool_size':(2, 2)}, \n",
    "          {'name': 'batch norm 4'}, \n",
    "          {'binary':binary,'stochastic':stochastic,'num_filters':256,'filter_size':(3,3),'pad':1}, \n",
    "          {'name': 'batch norm 5'}, \n",
    "          {'binary':binary,'stochastic':stochastic,'num_filters':256,'filter_size':(3,3),'pad':1}, \n",
    "          {'pool_size':(2, 2)}, \n",
    "          {'name': 'batch norm 6'}, \n",
    "          {'binary':binary,'stochastic':stochastic,'num_units':1024}, \n",
    "          {'name': 'batch norm 7'}, \n",
    "          {'binary':binary,'stochastic':stochastic,'num_units':1024}, \n",
    "          {'name': 'batch norm 8'}, \n",
    "          {'binary':binary,'stochastic':stochastic,'num_units':10}, \n",
    "          {'name': 'batch norm 9'}]\n",
    "\n",
    "input_shape=(None, 3, 32, 32)\n",
    "Layer = make_network(input_shape,net_arch,net_spec)\n",
    "\n",
    "input = T.tensor4('input')\n",
    "Y = T.imatrix('Y')\n",
    "LR = T.fscalar('learning_rate')\n",
    "    \n",
    "# cost function\n",
    "# hinge loss\n",
    "cost_tr = T.mean(T.sqr(T.maximum(0.,1. - Y * \\\n",
    "                                        lasagne.layers.get_output(Layer['out'], \n",
    "                                                                  {Layer['in']: input}, deterministic=False))))\n",
    "# compute update\n",
    "update = BC_utils.calculate_update(Layer, cost_tr, LR, method='adam', binary=binary)\n",
    "    \n",
    "# other functions\n",
    "cost_cv = T.mean(T.sqr(T.maximum(0.,1. - Y * lasagne.layers.get_output(Layer['out'], \n",
    "                                                                       {Layer['in']: input}, deterministic=True))))\n",
    "error_model = T.mean(T.neq(T.argmax(lasagne.layers.get_output(Layer['out'],\n",
    "                                                              {Layer['in']: input}, deterministic=True), axis=1), \n",
    "                           T.argmax(Y, axis=1)), dtype='float32')\n",
    "    \n",
    "n_train_batches = train_set_x.get_value(borrow=True).shape[0]\n",
    "n_valid_batches = valid_set_x.get_value(borrow=True).shape[0]\n",
    "n_test_batches = test_set_x.get_value(borrow=True).shape[0]\n",
    "n_train_batches //= batch_size\n",
    "n_valid_batches //= batch_size\n",
    "n_test_batches //= batch_size\n",
    "\n",
    "\n",
    "index = T.lscalar()\n",
    "start_time = time.time()\n",
    "\n",
    "logger.info('Computing function for training...')\n",
    "train_model = theano.function(\n",
    "    inputs=[index, LR],\n",
    "    outputs=cost_tr,\n",
    "    updates=update,\n",
    "    givens={\n",
    "        input: train_set_x[index * batch_size: (index + 1) * batch_size],\n",
    "        Y: train_set_y[index * batch_size: (index + 1) * batch_size]\n",
    "    }\n",
    ")\n",
    "\n",
    "print('Time spent: ', time.time() - start_time)\n",
    "\n",
    "logger.info('Compiling cost function for testing...')\n",
    "test_model = theano.function(\n",
    "    inputs=[index],\n",
    "    outputs=error_model,\n",
    "    givens={\n",
    "        input: test_set_x[index * batch_size:(index + 1) * batch_size],\n",
    "        Y: test_set_y[index * batch_size:(index + 1) * batch_size]\n",
    "    }\n",
    ")\n",
    "print('Time spent: ', time.time() - start_time)\n",
    "\n",
    "logger.info('Compiling cost function for validation...')\n",
    "validate_model = theano.function(\n",
    "    inputs=[index],\n",
    "    outputs=error_model,\n",
    "    givens={\n",
    "        input: valid_set_x[index * batch_size:(index + 1) * batch_size],\n",
    "        Y: valid_set_y[index * batch_size:(index + 1) * batch_size]\n",
    "    }\n",
    ")\n",
    "print('Time spent: ', time.time() - start_time)"
   ]
  },
  {
   "cell_type": "code",
   "execution_count": 7,
   "metadata": {
    "collapsed": false
   },
   "outputs": [],
   "source": [
    "if True:    \n",
    "    def train_nn(train_model, validate_model, test_model, LR, \n",
    "                n_train_batches, n_valid_batches, n_test_batches, n_epochs,\n",
    "                verbose = True):\n",
    "        \"\"\"\n",
    "        Function from HW3\n",
    "\n",
    "        \"\"\"\n",
    "\n",
    "        # early-stopping parameters\n",
    "        patience = 1e9  # look as this many examples regardless\n",
    "        patience_increase = 15  # wait this much longer when a new best is\n",
    "                               # found\n",
    "        improvement_threshold = 0.99998  # a relative improvement of this much is\n",
    "                                       # considered significant\n",
    "\n",
    "        best_validation_loss = np.inf\n",
    "        best_iter = 0\n",
    "        test_score = 0.\n",
    "        start_time = timeit.default_timer()\n",
    "\n",
    "        epoch = 0\n",
    "        best_epoch=0\n",
    "\n",
    "        LR_decay = (2e-6/LR)**(1./n_epochs)\n",
    "\n",
    "        tr_cost = []\n",
    "        cv_error = []\n",
    "\n",
    "        while epoch < n_epochs:\n",
    "            epoch = epoch + 1\n",
    "            start_epoch_time = time.time()\n",
    "            \n",
    "            LR = np.float32(LR)\n",
    "\n",
    "            cur_tr_cost=0.\n",
    "\n",
    "            for minibatch_index in range(n_train_batches):\n",
    "                cur_tr_cost += train_model(minibatch_index, LR)\n",
    "\n",
    "            tr_cost.append(cur_tr_cost)\n",
    "\n",
    "            validation_losses = [validate_model(i) for i\n",
    "                                         in range(n_valid_batches)]\n",
    "            this_validation_loss = np.mean(validation_losses)\n",
    "\n",
    "            cv_error.append(this_validation_loss)\n",
    "\n",
    "            if verbose:\n",
    "                logger.info(\"Epoch {} took {} seconds, tr cost {}, validation error {}%.\\n\".format(\n",
    "                epoch, time.time() - start_epoch_time, cur_tr_cost, this_validation_loss * 100.))\n",
    "\n",
    "            # if we got the best validation score until now\n",
    "            if this_validation_loss < best_validation_loss:\n",
    "                # save best validation score and iteration number\n",
    "                best_validation_loss = this_validation_loss\n",
    "                best_epoch = epoch\n",
    "\n",
    "                # test it on the test set\n",
    "                test_losses = [\n",
    "                            test_model(i)\n",
    "                            for i in range(n_test_batches)\n",
    "                    ]\n",
    "                test_score = np.mean(test_losses)\n",
    "\n",
    "                if verbose:\n",
    "                    print(('     epoch %i, test error of '\n",
    "                                   'best model %f %%') %\n",
    "                                  (epoch, \n",
    "                                   test_score * 100.))\n",
    "\n",
    "            # decay learning rate\n",
    "            LR *= LR_decay\n",
    "\n",
    "\n",
    "        end_time = timeit.default_timer()\n",
    "\n",
    "        # Print out summary\n",
    "        print('Optimization complete.')\n",
    "        print('Best validation score of %f %% obtained at epoch %i, '\n",
    "              'with test performance %f %%' %\n",
    "              (best_validation_loss * 100., best_epoch, test_score * 100.))\n",
    "\n",
    "        return tr_cost, cv_error"
   ]
  },
  {
   "cell_type": "code",
   "execution_count": 8,
   "metadata": {
    "collapsed": false,
    "scrolled": true
   },
   "outputs": [
    {
     "name": "stderr",
     "output_type": "stream",
     "text": [
      "INFO:root:Epoch 1 took 182.137691975 seconds, tr cost 494.891626483, validation error 89.3599927425%.\n",
      "\n",
      "Epoch 1 took 182.137691975 seconds, tr cost 494.891626483, validation error 89.3599927425%.\n",
      "\n"
     ]
    },
    {
     "name": "stdout",
     "output_type": "stream",
     "text": [
      "Stochastic binarization training...\n",
      "     epoch 1, test error of best model 89.999998 %"
     ]
    },
    {
     "name": "stderr",
     "output_type": "stream",
     "text": [
      "INFO:root:Epoch 2 took 180.438549042 seconds, tr cost 312.739587264, validation error 89.3599927425%.\n",
      "\n",
      "Epoch 2 took 180.438549042 seconds, tr cost 312.739587264, validation error 89.3599927425%.\n",
      "\n",
      "INFO:root:Epoch 3 took 179.484708786 seconds, tr cost 305.943255916, validation error 89.3599927425%.\n",
      "\n",
      "Epoch 3 took 179.484708786 seconds, tr cost 305.943255916, validation error 89.3599927425%.\n",
      "\n",
      "INFO:root:Epoch 4 took 179.034862995 seconds, tr cost 297.944185583, validation error 89.9599969387%.\n",
      "\n",
      "Epoch 4 took 179.034862995 seconds, tr cost 297.944185583, validation error 89.9599969387%.\n",
      "\n",
      "INFO:root:Epoch 5 took 178.071370125 seconds, tr cost 286.700914825, validation error 82.080000639%.\n",
      "\n",
      "Epoch 5 took 178.071370125 seconds, tr cost 286.700914825, validation error 82.080000639%.\n",
      "\n"
     ]
    },
    {
     "name": "stdout",
     "output_type": "stream",
     "text": [
      "\n",
      "     epoch 5, test error of best model 82.359999 %"
     ]
    },
    {
     "name": "stderr",
     "output_type": "stream",
     "text": [
      "INFO:root:Epoch 6 took 178.410831928 seconds, tr cost 267.605680667, validation error 76.8199920654%.\n",
      "\n",
      "Epoch 6 took 178.410831928 seconds, tr cost 267.605680667, validation error 76.8199920654%.\n",
      "\n"
     ]
    },
    {
     "name": "stdout",
     "output_type": "stream",
     "text": [
      "\n",
      "     epoch 6, test error of best model 75.550002 %"
     ]
    },
    {
     "name": "stderr",
     "output_type": "stream",
     "text": [
      "INFO:root:Epoch 7 took 178.320779085 seconds, tr cost 248.336165647, validation error 59.1999948025%.\n",
      "\n",
      "Epoch 7 took 178.320779085 seconds, tr cost 248.336165647, validation error 59.1999948025%.\n",
      "\n"
     ]
    },
    {
     "name": "stdout",
     "output_type": "stream",
     "text": [
      "\n",
      "     epoch 7, test error of best model 59.299994 %"
     ]
    },
    {
     "name": "stderr",
     "output_type": "stream",
     "text": [
      "INFO:root:Epoch 8 took 177.850809097 seconds, tr cost 229.761099601, validation error 52.3599982262%.\n",
      "\n",
      "Epoch 8 took 177.850809097 seconds, tr cost 229.761099601, validation error 52.3599982262%.\n",
      "\n"
     ]
    },
    {
     "name": "stdout",
     "output_type": "stream",
     "text": [
      "\n",
      "     epoch 8, test error of best model 51.980001 %"
     ]
    },
    {
     "name": "stderr",
     "output_type": "stream",
     "text": [
      "INFO:root:Epoch 9 took 177.800312996 seconds, tr cost 209.657797636, validation error 39.4400000572%.\n",
      "\n",
      "Epoch 9 took 177.800312996 seconds, tr cost 209.657797636, validation error 39.4400000572%.\n",
      "\n"
     ]
    },
    {
     "name": "stdout",
     "output_type": "stream",
     "text": [
      "\n",
      "     epoch 9, test error of best model 40.260002 %"
     ]
    },
    {
     "name": "stderr",
     "output_type": "stream",
     "text": [
      "INFO:root:Epoch 10 took 177.942423105 seconds, tr cost 190.543913874, validation error 36.0399961472%.\n",
      "\n",
      "Epoch 10 took 177.942423105 seconds, tr cost 190.543913874, validation error 36.0399961472%.\n",
      "\n"
     ]
    },
    {
     "name": "stdout",
     "output_type": "stream",
     "text": [
      "\n",
      "     epoch 10, test error of best model 37.470001 %"
     ]
    },
    {
     "name": "stderr",
     "output_type": "stream",
     "text": [
      "INFO:root:Epoch 11 took 178.152481079 seconds, tr cost 176.843058036, validation error 31.6200017929%.\n",
      "\n",
      "Epoch 11 took 178.152481079 seconds, tr cost 176.843058036, validation error 31.6200017929%.\n",
      "\n"
     ]
    },
    {
     "name": "stdout",
     "output_type": "stream",
     "text": [
      "\n",
      "     epoch 11, test error of best model 33.540002 %"
     ]
    },
    {
     "name": "stderr",
     "output_type": "stream",
     "text": [
      "INFO:root:Epoch 12 took 177.870579958 seconds, tr cost 165.678872746, validation error 28.8799971342%.\n",
      "\n",
      "Epoch 12 took 177.870579958 seconds, tr cost 165.678872746, validation error 28.8799971342%.\n",
      "\n"
     ]
    },
    {
     "name": "stdout",
     "output_type": "stream",
     "text": [
      "\n",
      "     epoch 12, test error of best model 30.419999 %"
     ]
    },
    {
     "name": "stderr",
     "output_type": "stream",
     "text": [
      "INFO:root:Epoch 13 took 177.866533995 seconds, tr cost 155.262900884, validation error 25.4400014877%.\n",
      "\n",
      "Epoch 13 took 177.866533995 seconds, tr cost 155.262900884, validation error 25.4400014877%.\n",
      "\n"
     ]
    },
    {
     "name": "stdout",
     "output_type": "stream",
     "text": [
      "\n",
      "     epoch 13, test error of best model 27.160001 %"
     ]
    },
    {
     "name": "stderr",
     "output_type": "stream",
     "text": [
      "INFO:root:Epoch 14 took 177.991349936 seconds, tr cost 147.592366598, validation error 24.6400013566%.\n",
      "\n",
      "Epoch 14 took 177.991349936 seconds, tr cost 147.592366598, validation error 24.6400013566%.\n",
      "\n"
     ]
    },
    {
     "name": "stdout",
     "output_type": "stream",
     "text": [
      "\n",
      "     epoch 14, test error of best model 26.299998 %"
     ]
    },
    {
     "name": "stderr",
     "output_type": "stream",
     "text": [
      "INFO:root:Epoch 15 took 177.976963997 seconds, tr cost 139.598318602, validation error 23.8399997354%.\n",
      "\n",
      "Epoch 15 took 177.976963997 seconds, tr cost 139.598318602, validation error 23.8399997354%.\n",
      "\n"
     ]
    },
    {
     "name": "stdout",
     "output_type": "stream",
     "text": [
      "\n",
      "     epoch 15, test error of best model 25.709999 %"
     ]
    },
    {
     "name": "stderr",
     "output_type": "stream",
     "text": [
      "INFO:root:Epoch 16 took 177.835144043 seconds, tr cost 133.246048712, validation error 22.6399987936%.\n",
      "\n",
      "Epoch 16 took 177.835144043 seconds, tr cost 133.246048712, validation error 22.6399987936%.\n",
      "\n"
     ]
    },
    {
     "name": "stdout",
     "output_type": "stream",
     "text": [
      "\n",
      "     epoch 16, test error of best model 24.260001 %"
     ]
    },
    {
     "name": "stderr",
     "output_type": "stream",
     "text": [
      "INFO:root:Epoch 17 took 177.823542118 seconds, tr cost 126.673547485, validation error 21.5599998832%.\n",
      "\n",
      "Epoch 17 took 177.823542118 seconds, tr cost 126.673547485, validation error 21.5599998832%.\n",
      "\n"
     ]
    },
    {
     "name": "stdout",
     "output_type": "stream",
     "text": [
      "\n",
      "     epoch 17, test error of best model 22.960001 %"
     ]
    },
    {
     "name": "stderr",
     "output_type": "stream",
     "text": [
      "INFO:root:Epoch 18 took 177.993113995 seconds, tr cost 121.699574518, validation error 21.0799992085%.\n",
      "\n",
      "Epoch 18 took 177.993113995 seconds, tr cost 121.699574518, validation error 21.0799992085%.\n",
      "\n"
     ]
    },
    {
     "name": "stdout",
     "output_type": "stream",
     "text": [
      "\n",
      "     epoch 18, test error of best model 22.190000 %"
     ]
    },
    {
     "name": "stderr",
     "output_type": "stream",
     "text": [
      "INFO:root:Epoch 19 took 178.125684023 seconds, tr cost 116.278294002, validation error 19.8600009084%.\n",
      "\n",
      "Epoch 19 took 178.125684023 seconds, tr cost 116.278294002, validation error 19.8600009084%.\n",
      "\n"
     ]
    },
    {
     "name": "stdout",
     "output_type": "stream",
     "text": [
      "\n",
      "     epoch 19, test error of best model 21.510001 %"
     ]
    },
    {
     "name": "stderr",
     "output_type": "stream",
     "text": [
      "INFO:root:Epoch 20 took 178.064326048 seconds, tr cost 111.013381693, validation error 19.3800017238%.\n",
      "\n",
      "Epoch 20 took 178.064326048 seconds, tr cost 111.013381693, validation error 19.3800017238%.\n",
      "\n"
     ]
    },
    {
     "name": "stdout",
     "output_type": "stream",
     "text": [
      "\n",
      "     epoch 20, test error of best model 20.940000 %"
     ]
    },
    {
     "name": "stderr",
     "output_type": "stream",
     "text": [
      "INFO:root:Epoch 21 took 177.986473799 seconds, tr cost 106.068300114, validation error 19.6400031447%.\n",
      "\n",
      "Epoch 21 took 177.986473799 seconds, tr cost 106.068300114, validation error 19.6400031447%.\n",
      "\n",
      "INFO:root:Epoch 22 took 178.696077108 seconds, tr cost 101.970747454, validation error 18.6200007796%.\n",
      "\n",
      "Epoch 22 took 178.696077108 seconds, tr cost 101.970747454, validation error 18.6200007796%.\n",
      "\n"
     ]
    },
    {
     "name": "stdout",
     "output_type": "stream",
     "text": [
      "\n",
      "     epoch 22, test error of best model 19.910002 %"
     ]
    },
    {
     "name": "stderr",
     "output_type": "stream",
     "text": [
      "INFO:root:Epoch 23 took 178.042352915 seconds, tr cost 97.717672987, validation error 18.440002203%.\n",
      "\n",
      "Epoch 23 took 178.042352915 seconds, tr cost 97.717672987, validation error 18.440002203%.\n",
      "\n"
     ]
    },
    {
     "name": "stdout",
     "output_type": "stream",
     "text": [
      "\n",
      "     epoch 23, test error of best model 19.610001 %"
     ]
    },
    {
     "name": "stderr",
     "output_type": "stream",
     "text": [
      "INFO:root:Epoch 24 took 177.813615084 seconds, tr cost 93.1786119107, validation error 18.7400013208%.\n",
      "\n",
      "Epoch 24 took 177.813615084 seconds, tr cost 93.1786119107, validation error 18.7400013208%.\n",
      "\n",
      "INFO:root:Epoch 25 took 178.078411818 seconds, tr cost 89.1694540551, validation error 18.2999998331%.\n",
      "\n",
      "Epoch 25 took 178.078411818 seconds, tr cost 89.1694540551, validation error 18.2999998331%.\n",
      "\n"
     ]
    },
    {
     "name": "stdout",
     "output_type": "stream",
     "text": [
      "\n",
      "     epoch 25, test error of best model 19.030003 %"
     ]
    },
    {
     "name": "stderr",
     "output_type": "stream",
     "text": [
      "INFO:root:Epoch 26 took 177.848403215 seconds, tr cost 85.0855560858, validation error 18.6199992895%.\n",
      "\n",
      "Epoch 26 took 177.848403215 seconds, tr cost 85.0855560858, validation error 18.6199992895%.\n",
      "\n",
      "INFO:root:Epoch 27 took 177.916074991 seconds, tr cost 81.7100603695, validation error 18.1600004435%.\n",
      "\n",
      "Epoch 27 took 177.916074991 seconds, tr cost 81.7100603695, validation error 18.1600004435%.\n",
      "\n"
     ]
    },
    {
     "name": "stdout",
     "output_type": "stream",
     "text": [
      "\n",
      "     epoch 27, test error of best model 18.410000 %"
     ]
    },
    {
     "name": "stderr",
     "output_type": "stream",
     "text": [
      "INFO:root:Epoch 28 took 178.195523977 seconds, tr cost 78.1868694841, validation error 17.8399994969%.\n",
      "\n",
      "Epoch 28 took 178.195523977 seconds, tr cost 78.1868694841, validation error 17.8399994969%.\n",
      "\n"
     ]
    },
    {
     "name": "stdout",
     "output_type": "stream",
     "text": [
      "\n",
      "     epoch 28, test error of best model 18.650001 %"
     ]
    },
    {
     "name": "stderr",
     "output_type": "stream",
     "text": [
      "INFO:root:Epoch 29 took 178.09000206 seconds, tr cost 74.6476951422, validation error 17.9600015283%.\n",
      "\n",
      "Epoch 29 took 178.09000206 seconds, tr cost 74.6476951422, validation error 17.9600015283%.\n",
      "\n",
      "INFO:root:Epoch 30 took 178.301670074 seconds, tr cost 71.0162674954, validation error 17.7999988198%.\n",
      "\n",
      "Epoch 30 took 178.301670074 seconds, tr cost 71.0162674954, validation error 17.7999988198%.\n",
      "\n"
     ]
    },
    {
     "name": "stdout",
     "output_type": "stream",
     "text": [
      "\n",
      "     epoch 30, test error of best model 18.570000 %"
     ]
    },
    {
     "name": "stderr",
     "output_type": "stream",
     "text": [
      "INFO:root:Epoch 31 took 178.045650959 seconds, tr cost 68.4343877136, validation error 17.7400022745%.\n",
      "\n",
      "Epoch 31 took 178.045650959 seconds, tr cost 68.4343877136, validation error 17.7400022745%.\n",
      "\n"
     ]
    },
    {
     "name": "stdout",
     "output_type": "stream",
     "text": [
      "\n",
      "     epoch 31, test error of best model 18.330000 %"
     ]
    },
    {
     "name": "stderr",
     "output_type": "stream",
     "text": [
      "INFO:root:Epoch 32 took 177.842753887 seconds, tr cost 65.2511970795, validation error 17.8800016642%.\n",
      "\n",
      "Epoch 32 took 177.842753887 seconds, tr cost 65.2511970795, validation error 17.8800016642%.\n",
      "\n",
      "INFO:root:Epoch 33 took 177.952986002 seconds, tr cost 62.5370798373, validation error 17.3399984837%.\n",
      "\n",
      "Epoch 33 took 177.952986002 seconds, tr cost 62.5370798373, validation error 17.3399984837%.\n",
      "\n"
     ]
    },
    {
     "name": "stdout",
     "output_type": "stream",
     "text": [
      "\n",
      "     epoch 33, test error of best model 18.090001 %"
     ]
    },
    {
     "name": "stderr",
     "output_type": "stream",
     "text": [
      "INFO:root:Epoch 34 took 177.971115112 seconds, tr cost 59.1133076209, validation error 17.499999702%.\n",
      "\n",
      "Epoch 34 took 177.971115112 seconds, tr cost 59.1133076209, validation error 17.499999702%.\n",
      "\n",
      "INFO:root:Epoch 35 took 177.598948002 seconds, tr cost 56.8162447538, validation error 17.6400005817%.\n",
      "\n",
      "Epoch 35 took 177.598948002 seconds, tr cost 56.8162447538, validation error 17.6400005817%.\n",
      "\n",
      "INFO:root:Epoch 36 took 177.57220006 seconds, tr cost 54.4920984482, validation error 17.2600015998%.\n",
      "\n",
      "Epoch 36 took 177.57220006 seconds, tr cost 54.4920984482, validation error 17.2600015998%.\n",
      "\n"
     ]
    },
    {
     "name": "stdout",
     "output_type": "stream",
     "text": [
      "\n",
      "     epoch 36, test error of best model 17.909999 %"
     ]
    },
    {
     "name": "stderr",
     "output_type": "stream",
     "text": [
      "INFO:root:Epoch 37 took 177.071793079 seconds, tr cost 51.9742953249, validation error 17.4000009894%.\n",
      "\n",
      "Epoch 37 took 177.071793079 seconds, tr cost 51.9742953249, validation error 17.4000009894%.\n",
      "\n",
      "INFO:root:Epoch 38 took 176.836024046 seconds, tr cost 49.5899178037, validation error 17.4000009894%.\n",
      "\n",
      "Epoch 38 took 176.836024046 seconds, tr cost 49.5899178037, validation error 17.4000009894%.\n",
      "\n",
      "INFO:root:Epoch 39 took 176.72905302 seconds, tr cost 46.8963539524, validation error 17.3599988222%.\n",
      "\n",
      "Epoch 39 took 176.72905302 seconds, tr cost 46.8963539524, validation error 17.3599988222%.\n",
      "\n",
      "INFO:root:Epoch 40 took 176.531926155 seconds, tr cost 45.8933797661, validation error 16.9800013304%.\n",
      "\n",
      "Epoch 40 took 176.531926155 seconds, tr cost 45.8933797661, validation error 16.9800013304%.\n",
      "\n"
     ]
    },
    {
     "name": "stdout",
     "output_type": "stream",
     "text": [
      "\n",
      "     epoch 40, test error of best model 17.659999 %"
     ]
    },
    {
     "name": "stderr",
     "output_type": "stream",
     "text": [
      "INFO:root:Epoch 41 took 176.499922991 seconds, tr cost 43.5047016431, validation error 16.9599995017%.\n",
      "\n",
      "Epoch 41 took 176.499922991 seconds, tr cost 43.5047016431, validation error 16.9599995017%.\n",
      "\n"
     ]
    },
    {
     "name": "stdout",
     "output_type": "stream",
     "text": [
      "\n",
      "     epoch 41, test error of best model 17.970002 %"
     ]
    },
    {
     "name": "stderr",
     "output_type": "stream",
     "text": [
      "INFO:root:Epoch 42 took 176.825452089 seconds, tr cost 41.8847470449, validation error 17.2000005841%.\n",
      "\n",
      "Epoch 42 took 176.825452089 seconds, tr cost 41.8847470449, validation error 17.2000005841%.\n",
      "\n",
      "INFO:root:Epoch 43 took 176.53521204 seconds, tr cost 40.0369776469, validation error 16.9799998403%.\n",
      "\n",
      "Epoch 43 took 176.53521204 seconds, tr cost 40.0369776469, validation error 16.9799998403%.\n",
      "\n",
      "INFO:root:Epoch 44 took 177.163228035 seconds, tr cost 38.6755167287, validation error 17.1800017357%.\n",
      "\n",
      "Epoch 44 took 177.163228035 seconds, tr cost 38.6755167287, validation error 17.1800017357%.\n",
      "\n",
      "INFO:root:Epoch 45 took 176.616354942 seconds, tr cost 37.5396065037, validation error 16.9800013304%.\n",
      "\n",
      "Epoch 45 took 176.616354942 seconds, tr cost 37.5396065037, validation error 16.9800013304%.\n",
      "\n",
      "INFO:root:Epoch 46 took 177.259953976 seconds, tr cost 35.4095493509, validation error 17.199999094%.\n",
      "\n",
      "Epoch 46 took 177.259953976 seconds, tr cost 35.4095493509, validation error 17.199999094%.\n",
      "\n",
      "INFO:root:Epoch 47 took 176.898842812 seconds, tr cost 34.888758871, validation error 17.0000001788%.\n",
      "\n",
      "Epoch 47 took 176.898842812 seconds, tr cost 34.888758871, validation error 17.0000001788%.\n",
      "\n",
      "INFO:root:Epoch 48 took 176.584245205 seconds, tr cost 33.2645945703, validation error 17.300003767%.\n",
      "\n",
      "Epoch 48 took 176.584245205 seconds, tr cost 33.2645945703, validation error 17.300003767%.\n",
      "\n",
      "INFO:root:Epoch 49 took 176.717479944 seconds, tr cost 31.5524552816, validation error 17.8000032902%.\n",
      "\n",
      "Epoch 49 took 176.717479944 seconds, tr cost 31.5524552816, validation error 17.8000032902%.\n",
      "\n",
      "INFO:root:Epoch 50 took 176.533372879 seconds, tr cost 30.9221627662, validation error 16.8400019407%.\n",
      "\n",
      "Epoch 50 took 176.533372879 seconds, tr cost 30.9221627662, validation error 16.8400019407%.\n",
      "\n"
     ]
    },
    {
     "name": "stdout",
     "output_type": "stream",
     "text": [
      "\n",
      "     epoch 50, test error of best model 17.289999 %"
     ]
    },
    {
     "name": "stderr",
     "output_type": "stream",
     "text": [
      "INFO:root:Epoch 51 took 176.8434062 seconds, tr cost 29.7746385508, validation error 16.8999999762%.\n",
      "\n",
      "Epoch 51 took 176.8434062 seconds, tr cost 29.7746385508, validation error 16.8999999762%.\n",
      "\n",
      "INFO:root:Epoch 52 took 176.942084074 seconds, tr cost 28.4226269414, validation error 16.8200001121%.\n",
      "\n",
      "Epoch 52 took 176.942084074 seconds, tr cost 28.4226269414, validation error 16.8200001121%.\n",
      "\n"
     ]
    },
    {
     "name": "stdout",
     "output_type": "stream",
     "text": [
      "\n",
      "     epoch 52, test error of best model 17.650002 %"
     ]
    },
    {
     "name": "stderr",
     "output_type": "stream",
     "text": [
      "INFO:root:Epoch 53 took 177.775481939 seconds, tr cost 27.5879599437, validation error 17.0400008559%.\n",
      "\n",
      "Epoch 53 took 177.775481939 seconds, tr cost 27.5879599437, validation error 17.0400008559%.\n",
      "\n",
      "INFO:root:Epoch 54 took 176.652873993 seconds, tr cost 26.1035606738, validation error 16.9400006533%.\n",
      "\n",
      "Epoch 54 took 176.652873993 seconds, tr cost 26.1035606738, validation error 16.9400006533%.\n",
      "\n",
      "INFO:root:Epoch 55 took 176.474430084 seconds, tr cost 25.9450683509, validation error 16.7400017381%.\n",
      "\n",
      "Epoch 55 took 176.474430084 seconds, tr cost 25.9450683509, validation error 16.7400017381%.\n",
      "\n"
     ]
    },
    {
     "name": "stdout",
     "output_type": "stream",
     "text": [
      "\n",
      "     epoch 55, test error of best model 17.719999 %"
     ]
    },
    {
     "name": "stderr",
     "output_type": "stream",
     "text": [
      "INFO:root:Epoch 56 took 176.865738153 seconds, tr cost 24.5937478893, validation error 16.620002687%.\n",
      "\n",
      "Epoch 56 took 176.865738153 seconds, tr cost 24.5937478893, validation error 16.620002687%.\n",
      "\n"
     ]
    },
    {
     "name": "stdout",
     "output_type": "stream",
     "text": [
      "\n",
      "     epoch 56, test error of best model 17.580000 %"
     ]
    },
    {
     "name": "stderr",
     "output_type": "stream",
     "text": [
      "INFO:root:Epoch 57 took 176.732312202 seconds, tr cost 24.1558987256, validation error 16.9000014663%.\n",
      "\n",
      "Epoch 57 took 176.732312202 seconds, tr cost 24.1558987256, validation error 16.9000014663%.\n",
      "\n",
      "INFO:root:Epoch 58 took 176.815784931 seconds, tr cost 23.3381472968, validation error 17.1600013971%.\n",
      "\n",
      "Epoch 58 took 176.815784931 seconds, tr cost 23.3381472968, validation error 17.1600013971%.\n",
      "\n",
      "INFO:root:Epoch 59 took 176.855889082 seconds, tr cost 22.5800634232, validation error 17.3800006509%.\n",
      "\n",
      "Epoch 59 took 176.855889082 seconds, tr cost 22.5800634232, validation error 17.3800006509%.\n",
      "\n",
      "INFO:root:Epoch 60 took 176.590174913 seconds, tr cost 22.246687478, validation error 16.6999995708%.\n",
      "\n",
      "Epoch 60 took 176.590174913 seconds, tr cost 22.246687478, validation error 16.6999995708%.\n",
      "\n",
      "INFO:root:Epoch 61 took 176.818266869 seconds, tr cost 21.494475697, validation error 16.7800009251%.\n",
      "\n",
      "Epoch 61 took 176.818266869 seconds, tr cost 21.494475697, validation error 16.7800009251%.\n",
      "\n",
      "INFO:root:Epoch 62 took 177.048082113 seconds, tr cost 21.0313114041, validation error 16.8400004506%.\n",
      "\n",
      "Epoch 62 took 177.048082113 seconds, tr cost 21.0313114041, validation error 16.8400004506%.\n",
      "\n",
      "INFO:root:Epoch 63 took 176.528338194 seconds, tr cost 20.0310383686, validation error 16.7800024152%.\n",
      "\n",
      "Epoch 63 took 176.528338194 seconds, tr cost 20.0310383686, validation error 16.7800024152%.\n",
      "\n",
      "INFO:root:Epoch 64 took 176.673517942 seconds, tr cost 19.6214687814, validation error 16.6000023484%.\n",
      "\n",
      "Epoch 64 took 176.673517942 seconds, tr cost 19.6214687814, validation error 16.6000023484%.\n",
      "\n"
     ]
    },
    {
     "name": "stdout",
     "output_type": "stream",
     "text": [
      "\n",
      "     epoch 64, test error of best model 17.520000 %"
     ]
    },
    {
     "name": "stderr",
     "output_type": "stream",
     "text": [
      "INFO:root:Epoch 65 took 176.75917387 seconds, tr cost 19.3205423435, validation error 16.5600016713%.\n",
      "\n",
      "Epoch 65 took 176.75917387 seconds, tr cost 19.3205423435, validation error 16.5600016713%.\n",
      "\n"
     ]
    },
    {
     "name": "stdout",
     "output_type": "stream",
     "text": [
      "\n",
      "     epoch 65, test error of best model 17.260000 %"
     ]
    },
    {
     "name": "stderr",
     "output_type": "stream",
     "text": [
      "INFO:root:Epoch 66 took 176.915118933 seconds, tr cost 18.4461332841, validation error 17.3799991608%.\n",
      "\n",
      "Epoch 66 took 176.915118933 seconds, tr cost 18.4461332841, validation error 17.3799991608%.\n",
      "\n",
      "INFO:root:Epoch 67 took 177.025753021 seconds, tr cost 18.1711536143, validation error 17.3000007868%.\n",
      "\n",
      "Epoch 67 took 177.025753021 seconds, tr cost 18.1711536143, validation error 17.3000007868%.\n",
      "\n",
      "INFO:root:Epoch 68 took 176.565994024 seconds, tr cost 17.4592252897, validation error 16.9000014663%.\n",
      "\n",
      "Epoch 68 took 176.565994024 seconds, tr cost 17.4592252897, validation error 16.9000014663%.\n",
      "\n",
      "INFO:root:Epoch 69 took 176.330199957 seconds, tr cost 17.7092719925, validation error 16.9600024819%.\n",
      "\n",
      "Epoch 69 took 176.330199957 seconds, tr cost 17.7092719925, validation error 16.9600024819%.\n",
      "\n",
      "INFO:root:Epoch 70 took 176.787019968 seconds, tr cost 17.3258511592, validation error 16.8800011277%.\n",
      "\n",
      "Epoch 70 took 176.787019968 seconds, tr cost 17.3258511592, validation error 16.8800011277%.\n",
      "\n",
      "INFO:root:Epoch 71 took 176.735234976 seconds, tr cost 16.8171694361, validation error 16.9200018048%.\n",
      "\n",
      "Epoch 71 took 176.735234976 seconds, tr cost 16.8171694361, validation error 16.9200018048%.\n",
      "\n",
      "INFO:root:Epoch 72 took 176.432442188 seconds, tr cost 16.2200847114, validation error 16.5600016713%.\n",
      "\n",
      "Epoch 72 took 176.432442188 seconds, tr cost 16.2200847114, validation error 16.5600016713%.\n",
      "\n",
      "INFO:root:Epoch 73 took 177.388123035 seconds, tr cost 15.9429390785, validation error 17.0000016689%.\n",
      "\n",
      "Epoch 73 took 177.388123035 seconds, tr cost 15.9429390785, validation error 17.0000016689%.\n",
      "\n",
      "INFO:root:Epoch 74 took 176.932533979 seconds, tr cost 15.6563113186, validation error 16.4599984884%.\n",
      "\n",
      "Epoch 74 took 176.932533979 seconds, tr cost 15.6563113186, validation error 16.4599984884%.\n",
      "\n"
     ]
    },
    {
     "name": "stdout",
     "output_type": "stream",
     "text": [
      "\n",
      "     epoch 74, test error of best model 17.310001 %"
     ]
    },
    {
     "name": "stderr",
     "output_type": "stream",
     "text": [
      "INFO:root:Epoch 75 took 176.775921106 seconds, tr cost 15.6245766466, validation error 16.2599995732%.\n",
      "\n",
      "Epoch 75 took 176.775921106 seconds, tr cost 15.6245766466, validation error 16.2599995732%.\n",
      "\n"
     ]
    },
    {
     "name": "stdout",
     "output_type": "stream",
     "text": [
      "\n",
      "     epoch 75, test error of best model 17.250000 %"
     ]
    },
    {
     "name": "stderr",
     "output_type": "stream",
     "text": [
      "INFO:root:Epoch 76 took 176.44678092 seconds, tr cost 15.0436371095, validation error 16.6800022125%.\n",
      "\n",
      "Epoch 76 took 176.44678092 seconds, tr cost 15.0436371095, validation error 16.6800022125%.\n",
      "\n",
      "INFO:root:Epoch 77 took 176.595995903 seconds, tr cost 14.621215477, validation error 16.8400019407%.\n",
      "\n",
      "Epoch 77 took 176.595995903 seconds, tr cost 14.621215477, validation error 16.8400019407%.\n",
      "\n",
      "INFO:root:Epoch 78 took 176.668612957 seconds, tr cost 14.4551370698, validation error 16.9000014663%.\n",
      "\n",
      "Epoch 78 took 176.668612957 seconds, tr cost 14.4551370698, validation error 16.9000014663%.\n",
      "\n",
      "INFO:root:Epoch 79 took 176.613209963 seconds, tr cost 13.9495208588, validation error 16.6600033641%.\n",
      "\n",
      "Epoch 79 took 176.613209963 seconds, tr cost 13.9495208588, validation error 16.6600033641%.\n",
      "\n",
      "INFO:root:Epoch 80 took 176.546377897 seconds, tr cost 13.9824755217, validation error 16.6400000453%.\n",
      "\n",
      "Epoch 80 took 176.546377897 seconds, tr cost 13.9824755217, validation error 16.6400000453%.\n",
      "\n",
      "INFO:root:Epoch 81 took 177.038865089 seconds, tr cost 13.6184408096, validation error 16.9600009918%.\n",
      "\n",
      "Epoch 81 took 177.038865089 seconds, tr cost 13.6184408096, validation error 16.9600009918%.\n",
      "\n",
      "INFO:root:Epoch 82 took 177.079091787 seconds, tr cost 13.5235161905, validation error 16.4200007915%.\n",
      "\n",
      "Epoch 82 took 177.079091787 seconds, tr cost 13.5235161905, validation error 16.4200007915%.\n",
      "\n",
      "INFO:root:Epoch 83 took 176.285933971 seconds, tr cost 13.0674292542, validation error 16.8400004506%.\n",
      "\n",
      "Epoch 83 took 176.285933971 seconds, tr cost 13.0674292542, validation error 16.8400004506%.\n",
      "\n",
      "INFO:root:Epoch 84 took 176.560055017 seconds, tr cost 13.0295716351, validation error 16.8200030923%.\n",
      "\n",
      "Epoch 84 took 176.560055017 seconds, tr cost 13.0295716351, validation error 16.8200030923%.\n",
      "\n",
      "INFO:root:Epoch 85 took 176.6398592 seconds, tr cost 12.6768406045, validation error 16.3800016046%.\n",
      "\n",
      "Epoch 85 took 176.6398592 seconds, tr cost 12.6768406045, validation error 16.3800016046%.\n",
      "\n",
      "INFO:root:Epoch 86 took 176.713889122 seconds, tr cost 12.6949796272, validation error 16.5400013328%.\n",
      "\n",
      "Epoch 86 took 176.713889122 seconds, tr cost 12.6949796272, validation error 16.5400013328%.\n",
      "\n",
      "INFO:root:Epoch 87 took 176.798870087 seconds, tr cost 12.0746308059, validation error 16.6000023484%.\n",
      "\n",
      "Epoch 87 took 176.798870087 seconds, tr cost 12.0746308059, validation error 16.6000023484%.\n",
      "\n",
      "INFO:root:Epoch 88 took 176.430919886 seconds, tr cost 11.857525055, validation error 16.4800018072%.\n",
      "\n",
      "Epoch 88 took 176.430919886 seconds, tr cost 11.857525055, validation error 16.4800018072%.\n",
      "\n",
      "INFO:root:Epoch 89 took 176.610771894 seconds, tr cost 12.2555987773, validation error 16.740000248%.\n",
      "\n",
      "Epoch 89 took 176.610771894 seconds, tr cost 12.2555987773, validation error 16.740000248%.\n",
      "\n",
      "INFO:root:Epoch 90 took 176.196264982 seconds, tr cost 11.8690615035, validation error 16.4600014687%.\n",
      "\n",
      "Epoch 90 took 176.196264982 seconds, tr cost 11.8690615035, validation error 16.4600014687%.\n",
      "\n",
      "INFO:root:Epoch 91 took 176.315774918 seconds, tr cost 11.8877346548, validation error 16.6800022125%.\n",
      "\n",
      "Epoch 91 took 176.315774918 seconds, tr cost 11.8877346548, validation error 16.6800022125%.\n",
      "\n",
      "INFO:root:Epoch 92 took 176.373344183 seconds, tr cost 11.580774672, validation error 16.6600003839%.\n",
      "\n",
      "Epoch 92 took 176.373344183 seconds, tr cost 11.580774672, validation error 16.6600003839%.\n",
      "\n",
      "INFO:root:Epoch 93 took 176.166862011 seconds, tr cost 11.2221398365, validation error 16.5200009942%.\n",
      "\n",
      "Epoch 93 took 176.166862011 seconds, tr cost 11.2221398365, validation error 16.5200009942%.\n",
      "\n",
      "INFO:root:Epoch 94 took 176.284133196 seconds, tr cost 11.0722400941, validation error 16.6800007224%.\n",
      "\n",
      "Epoch 94 took 176.284133196 seconds, tr cost 11.0722400941, validation error 16.6800007224%.\n",
      "\n",
      "INFO:root:Epoch 95 took 175.76806283 seconds, tr cost 11.3734900394, validation error 16.4400011301%.\n",
      "\n",
      "Epoch 95 took 175.76806283 seconds, tr cost 11.3734900394, validation error 16.4400011301%.\n",
      "\n",
      "INFO:root:Epoch 96 took 175.758250952 seconds, tr cost 10.9931296473, validation error 16.5800020099%.\n",
      "\n",
      "Epoch 96 took 175.758250952 seconds, tr cost 10.9931296473, validation error 16.5800020099%.\n",
      "\n",
      "INFO:root:Epoch 97 took 175.463605165 seconds, tr cost 10.7474734574, validation error 16.4200022817%.\n",
      "\n",
      "Epoch 97 took 175.463605165 seconds, tr cost 10.7474734574, validation error 16.4200022817%.\n",
      "\n",
      "INFO:root:Epoch 98 took 175.637561798 seconds, tr cost 10.6502199224, validation error 16.4800018072%.\n",
      "\n",
      "Epoch 98 took 175.637561798 seconds, tr cost 10.6502199224, validation error 16.4800018072%.\n",
      "\n",
      "INFO:root:Epoch 99 took 175.554505825 seconds, tr cost 10.8603270206, validation error 16.5000021458%.\n",
      "\n",
      "Epoch 99 took 175.554505825 seconds, tr cost 10.8603270206, validation error 16.5000021458%.\n",
      "\n",
      "INFO:root:Epoch 100 took 175.456636906 seconds, tr cost 10.8956723958, validation error 16.4800032973%.\n",
      "\n",
      "Epoch 100 took 175.456636906 seconds, tr cost 10.8956723958, validation error 16.4800032973%.\n",
      "\n",
      "INFO:root:Epoch 101 took 175.607218981 seconds, tr cost 10.6807183559, validation error 16.5800020099%.\n",
      "\n",
      "Epoch 101 took 175.607218981 seconds, tr cost 10.6807183559, validation error 16.5800020099%.\n",
      "\n",
      "INFO:root:Epoch 102 took 175.67957592 seconds, tr cost 9.91922872091, validation error 16.4600014687%.\n",
      "\n",
      "Epoch 102 took 175.67957592 seconds, tr cost 9.91922872091, validation error 16.4600014687%.\n",
      "\n",
      "INFO:root:Epoch 103 took 175.64515996 seconds, tr cost 10.220032126, validation error 16.5200009942%.\n",
      "\n",
      "Epoch 103 took 175.64515996 seconds, tr cost 10.220032126, validation error 16.5200009942%.\n",
      "\n",
      "INFO:root:Epoch 104 took 175.882641792 seconds, tr cost 10.0904408272, validation error 16.4800018072%.\n",
      "\n",
      "Epoch 104 took 175.882641792 seconds, tr cost 10.0904408272, validation error 16.4800018072%.\n",
      "\n",
      "INFO:root:Epoch 105 took 175.875761986 seconds, tr cost 9.87645154079, validation error 16.3800016046%.\n",
      "\n",
      "Epoch 105 took 175.875761986 seconds, tr cost 9.87645154079, validation error 16.3800016046%.\n",
      "\n",
      "INFO:root:Epoch 106 took 175.543848991 seconds, tr cost 9.73429457539, validation error 16.8800011277%.\n",
      "\n",
      "Epoch 106 took 175.543848991 seconds, tr cost 9.73429457539, validation error 16.8800011277%.\n",
      "\n",
      "INFO:root:Epoch 107 took 175.488942862 seconds, tr cost 9.80908228026, validation error 16.5200024843%.\n",
      "\n",
      "Epoch 107 took 175.488942862 seconds, tr cost 9.80908228026, validation error 16.5200024843%.\n",
      "\n",
      "INFO:root:Epoch 108 took 175.610306978 seconds, tr cost 9.7978072673, validation error 16.5400013328%.\n",
      "\n",
      "Epoch 108 took 175.610306978 seconds, tr cost 9.7978072673, validation error 16.5400013328%.\n",
      "\n",
      "INFO:root:Epoch 109 took 175.420311928 seconds, tr cost 9.62093572892, validation error 16.700001061%.\n",
      "\n",
      "Epoch 109 took 175.420311928 seconds, tr cost 9.62093572892, validation error 16.700001061%.\n",
      "\n",
      "INFO:root:Epoch 110 took 175.408150911 seconds, tr cost 9.91000555813, validation error 16.5400013328%.\n",
      "\n",
      "Epoch 110 took 175.408150911 seconds, tr cost 9.91000555813, validation error 16.5400013328%.\n",
      "\n",
      "INFO:root:Epoch 111 took 175.457130909 seconds, tr cost 9.34643176537, validation error 16.6600003839%.\n",
      "\n",
      "Epoch 111 took 175.457130909 seconds, tr cost 9.34643176537, validation error 16.6600003839%.\n",
      "\n",
      "INFO:root:Epoch 112 took 175.739460945 seconds, tr cost 9.56268699027, validation error 16.4800018072%.\n",
      "\n",
      "Epoch 112 took 175.739460945 seconds, tr cost 9.56268699027, validation error 16.4800018072%.\n",
      "\n",
      "INFO:root:Epoch 113 took 175.466372967 seconds, tr cost 9.23953899244, validation error 16.5600016713%.\n",
      "\n",
      "Epoch 113 took 175.466372967 seconds, tr cost 9.23953899244, validation error 16.5600016713%.\n",
      "\n",
      "INFO:root:Epoch 114 took 175.682209015 seconds, tr cost 9.40355314913, validation error 16.2399992347%.\n",
      "\n",
      "Epoch 114 took 175.682209015 seconds, tr cost 9.40355314913, validation error 16.2399992347%.\n",
      "\n"
     ]
    },
    {
     "name": "stdout",
     "output_type": "stream",
     "text": [
      "\n",
      "     epoch 114, test error of best model 17.440000 %"
     ]
    },
    {
     "name": "stderr",
     "output_type": "stream",
     "text": [
      "INFO:root:Epoch 115 took 175.792445183 seconds, tr cost 9.26833698988, validation error 16.5800020099%.\n",
      "\n",
      "Epoch 115 took 175.792445183 seconds, tr cost 9.26833698988, validation error 16.5800020099%.\n",
      "\n",
      "INFO:root:Epoch 116 took 175.622601986 seconds, tr cost 9.30732878577, validation error 16.7800024152%.\n",
      "\n",
      "Epoch 116 took 175.622601986 seconds, tr cost 9.30732878577, validation error 16.7800024152%.\n",
      "\n",
      "INFO:root:Epoch 117 took 175.637620926 seconds, tr cost 9.17293009845, validation error 16.6400015354%.\n",
      "\n",
      "Epoch 117 took 175.637620926 seconds, tr cost 9.17293009845, validation error 16.6400015354%.\n",
      "\n",
      "INFO:root:Epoch 118 took 175.38270998 seconds, tr cost 9.24356067917, validation error 16.5400013328%.\n",
      "\n",
      "Epoch 118 took 175.38270998 seconds, tr cost 9.24356067917, validation error 16.5400013328%.\n",
      "\n",
      "INFO:root:Epoch 119 took 175.670241833 seconds, tr cost 9.01455771698, validation error 16.4800018072%.\n",
      "\n",
      "Epoch 119 took 175.670241833 seconds, tr cost 9.01455771698, validation error 16.4800018072%.\n",
      "\n",
      "INFO:root:Epoch 120 took 175.483698845 seconds, tr cost 8.97510895904, validation error 16.2800014019%.\n",
      "\n",
      "Epoch 120 took 175.483698845 seconds, tr cost 8.97510895904, validation error 16.2800014019%.\n",
      "\n",
      "INFO:root:Epoch 121 took 175.580924988 seconds, tr cost 8.59357430906, validation error 16.6800022125%.\n",
      "\n",
      "Epoch 121 took 175.580924988 seconds, tr cost 8.59357430906, validation error 16.6800022125%.\n",
      "\n",
      "INFO:root:Epoch 122 took 175.527709961 seconds, tr cost 8.78119066419, validation error 16.5000006557%.\n",
      "\n",
      "Epoch 122 took 175.527709961 seconds, tr cost 8.78119066419, validation error 16.5000006557%.\n",
      "\n",
      "INFO:root:Epoch 123 took 175.593050957 seconds, tr cost 8.48635910534, validation error 16.6800022125%.\n",
      "\n",
      "Epoch 123 took 175.593050957 seconds, tr cost 8.48635910534, validation error 16.6800022125%.\n",
      "\n",
      "INFO:root:Epoch 124 took 175.757519007 seconds, tr cost 8.95752264928, validation error 16.5800020099%.\n",
      "\n",
      "Epoch 124 took 175.757519007 seconds, tr cost 8.95752264928, validation error 16.5800020099%.\n",
      "\n",
      "INFO:root:Epoch 125 took 175.327281952 seconds, tr cost 8.82011105035, validation error 16.6400015354%.\n",
      "\n",
      "Epoch 125 took 175.327281952 seconds, tr cost 8.82011105035, validation error 16.6400015354%.\n",
      "\n",
      "INFO:root:Epoch 126 took 175.793642998 seconds, tr cost 8.40488748367, validation error 16.5400013328%.\n",
      "\n",
      "Epoch 126 took 175.793642998 seconds, tr cost 8.40488748367, validation error 16.5400013328%.\n",
      "\n",
      "INFO:root:Epoch 127 took 175.668849945 seconds, tr cost 8.3871105647, validation error 16.5399983525%.\n",
      "\n",
      "Epoch 127 took 175.668849945 seconds, tr cost 8.3871105647, validation error 16.5399983525%.\n",
      "\n",
      "INFO:root:Epoch 128 took 175.514476061 seconds, tr cost 8.38254477096, validation error 16.4000019431%.\n",
      "\n",
      "Epoch 128 took 175.514476061 seconds, tr cost 8.38254477096, validation error 16.4000019431%.\n",
      "\n",
      "INFO:root:Epoch 129 took 175.788938999 seconds, tr cost 8.52266372497, validation error 16.3400024176%.\n",
      "\n",
      "Epoch 129 took 175.788938999 seconds, tr cost 8.52266372497, validation error 16.3400024176%.\n",
      "\n",
      "INFO:root:Epoch 130 took 175.907649994 seconds, tr cost 8.28735900621, validation error 16.5600001812%.\n",
      "\n",
      "Epoch 130 took 175.907649994 seconds, tr cost 8.28735900621, validation error 16.5600001812%.\n",
      "\n",
      "INFO:root:Epoch 131 took 175.180639029 seconds, tr cost 8.22525229296, validation error 16.320002079%.\n",
      "\n",
      "Epoch 131 took 175.180639029 seconds, tr cost 8.22525229296, validation error 16.320002079%.\n",
      "\n",
      "INFO:root:Epoch 132 took 175.463975906 seconds, tr cost 8.41032069876, validation error 16.9400006533%.\n",
      "\n",
      "Epoch 132 took 175.463975906 seconds, tr cost 8.41032069876, validation error 16.9400006533%.\n",
      "\n",
      "INFO:root:Epoch 133 took 175.555784941 seconds, tr cost 8.34918191932, validation error 16.5800020099%.\n",
      "\n",
      "Epoch 133 took 175.555784941 seconds, tr cost 8.34918191932, validation error 16.5800020099%.\n",
      "\n",
      "INFO:root:Epoch 134 took 175.900791168 seconds, tr cost 8.12228406107, validation error 16.4400011301%.\n",
      "\n",
      "Epoch 134 took 175.900791168 seconds, tr cost 8.12228406107, validation error 16.4400011301%.\n",
      "\n",
      "INFO:root:Epoch 135 took 175.339794874 seconds, tr cost 7.91339303223, validation error 16.320002079%.\n",
      "\n",
      "Epoch 135 took 175.339794874 seconds, tr cost 7.91339303223, validation error 16.320002079%.\n",
      "\n",
      "INFO:root:Epoch 136 took 175.450695992 seconds, tr cost 8.48662836056, validation error 16.2800014019%.\n",
      "\n",
      "Epoch 136 took 175.450695992 seconds, tr cost 8.48662836056, validation error 16.2800014019%.\n",
      "\n",
      "INFO:root:Epoch 137 took 175.526884079 seconds, tr cost 8.11566849579, validation error 16.5400013328%.\n",
      "\n",
      "Epoch 137 took 175.526884079 seconds, tr cost 8.11566849579, validation error 16.5400013328%.\n",
      "\n",
      "INFO:root:Epoch 138 took 175.527123213 seconds, tr cost 7.93070490211, validation error 16.5399983525%.\n",
      "\n",
      "Epoch 138 took 175.527123213 seconds, tr cost 7.93070490211, validation error 16.5399983525%.\n",
      "\n",
      "INFO:root:Epoch 139 took 175.383455992 seconds, tr cost 8.01558856737, validation error 16.4800018072%.\n",
      "\n",
      "Epoch 139 took 175.383455992 seconds, tr cost 8.01558856737, validation error 16.4800018072%.\n",
      "\n",
      "INFO:root:Epoch 140 took 175.635173082 seconds, tr cost 7.88142096168, validation error 16.5200009942%.\n",
      "\n",
      "Epoch 140 took 175.635173082 seconds, tr cost 7.88142096168, validation error 16.5200009942%.\n",
      "\n",
      "INFO:root:Epoch 141 took 175.703386068 seconds, tr cost 8.01649608823, validation error 16.7800009251%.\n",
      "\n",
      "Epoch 141 took 175.703386068 seconds, tr cost 8.01649608823, validation error 16.7800009251%.\n",
      "\n",
      "INFO:root:Epoch 142 took 176.148449183 seconds, tr cost 8.17531474138, validation error 16.4999976754%.\n",
      "\n",
      "Epoch 142 took 176.148449183 seconds, tr cost 8.17531474138, validation error 16.4999976754%.\n",
      "\n",
      "INFO:root:Epoch 143 took 175.739503145 seconds, tr cost 7.995169714, validation error 16.5600001812%.\n",
      "\n",
      "Epoch 143 took 175.739503145 seconds, tr cost 7.995169714, validation error 16.5600001812%.\n",
      "\n",
      "INFO:root:Epoch 144 took 175.41505003 seconds, tr cost 7.76312800008, validation error 16.8600007892%.\n",
      "\n",
      "Epoch 144 took 175.41505003 seconds, tr cost 7.76312800008, validation error 16.8600007892%.\n",
      "\n",
      "INFO:root:Epoch 145 took 175.930537939 seconds, tr cost 8.17746115144, validation error 16.7200013995%.\n",
      "\n",
      "Epoch 145 took 175.930537939 seconds, tr cost 8.17746115144, validation error 16.7200013995%.\n",
      "\n",
      "INFO:root:Epoch 146 took 175.579016924 seconds, tr cost 7.77749148553, validation error 16.0200029612%.\n",
      "\n",
      "Epoch 146 took 175.579016924 seconds, tr cost 7.77749148553, validation error 16.0200029612%.\n",
      "\n"
     ]
    },
    {
     "name": "stdout",
     "output_type": "stream",
     "text": [
      "\n",
      "     epoch 146, test error of best model 17.209999 %"
     ]
    },
    {
     "name": "stderr",
     "output_type": "stream",
     "text": [
      "INFO:root:Epoch 147 took 176.185540915 seconds, tr cost 8.02420276148, validation error 16.6200011969%.\n",
      "\n",
      "Epoch 147 took 176.185540915 seconds, tr cost 8.02420276148, validation error 16.6200011969%.\n",
      "\n",
      "INFO:root:Epoch 148 took 175.695709944 seconds, tr cost 7.85747547918, validation error 16.5600001812%.\n",
      "\n",
      "Epoch 148 took 175.695709944 seconds, tr cost 7.85747547918, validation error 16.5600001812%.\n",
      "\n",
      "INFO:root:Epoch 149 took 175.54314208 seconds, tr cost 7.85467284549, validation error 16.4000019431%.\n",
      "\n",
      "Epoch 149 took 175.54314208 seconds, tr cost 7.85467284549, validation error 16.4000019431%.\n",
      "\n",
      "INFO:root:Epoch 150 took 175.468959808 seconds, tr cost 7.70265740987, validation error 16.3999989629%.\n",
      "\n",
      "Epoch 150 took 175.468959808 seconds, tr cost 7.70265740987, validation error 16.3999989629%.\n",
      "\n",
      "INFO:root:Epoch 151 took 175.647828102 seconds, tr cost 8.0170495966, validation error 16.2800014019%.\n",
      "\n",
      "Epoch 151 took 175.647828102 seconds, tr cost 8.0170495966, validation error 16.2800014019%.\n",
      "\n",
      "INFO:root:Epoch 152 took 175.870700836 seconds, tr cost 7.75710776699, validation error 16.5600016713%.\n",
      "\n",
      "Epoch 152 took 175.870700836 seconds, tr cost 7.75710776699, validation error 16.5600016713%.\n",
      "\n",
      "INFO:root:Epoch 153 took 175.49637413 seconds, tr cost 7.88180482947, validation error 16.9000014663%.\n",
      "\n",
      "Epoch 153 took 175.49637413 seconds, tr cost 7.88180482947, validation error 16.9000014663%.\n",
      "\n",
      "INFO:root:Epoch 154 took 175.352796078 seconds, tr cost 7.97835894676, validation error 16.3399994373%.\n",
      "\n",
      "Epoch 154 took 175.352796078 seconds, tr cost 7.97835894676, validation error 16.3399994373%.\n",
      "\n",
      "INFO:root:Epoch 155 took 176.141580105 seconds, tr cost 7.84591162518, validation error 16.3000017405%.\n",
      "\n",
      "Epoch 155 took 176.141580105 seconds, tr cost 7.84591162518, validation error 16.3000017405%.\n",
      "\n",
      "INFO:root:Epoch 156 took 175.413955927 seconds, tr cost 7.76778530577, validation error 16.320002079%.\n",
      "\n",
      "Epoch 156 took 175.413955927 seconds, tr cost 7.76778530577, validation error 16.320002079%.\n",
      "\n",
      "INFO:root:Epoch 157 took 175.650090933 seconds, tr cost 7.55897784499, validation error 16.620002687%.\n",
      "\n",
      "Epoch 157 took 175.650090933 seconds, tr cost 7.55897784499, validation error 16.620002687%.\n",
      "\n",
      "INFO:root:Epoch 158 took 175.53478384 seconds, tr cost 7.7046129471, validation error 16.6000008583%.\n",
      "\n",
      "Epoch 158 took 175.53478384 seconds, tr cost 7.7046129471, validation error 16.6000008583%.\n",
      "\n",
      "INFO:root:Epoch 159 took 175.704269171 seconds, tr cost 7.84354353587, validation error 16.5000021458%.\n",
      "\n",
      "Epoch 159 took 175.704269171 seconds, tr cost 7.84354353587, validation error 16.5000021458%.\n",
      "\n",
      "INFO:root:Epoch 160 took 175.783473969 seconds, tr cost 7.69028656494, validation error 16.3400024176%.\n",
      "\n",
      "Epoch 160 took 175.783473969 seconds, tr cost 7.69028656494, validation error 16.3400024176%.\n",
      "\n",
      "INFO:root:Epoch 161 took 175.624265909 seconds, tr cost 7.41683560567, validation error 16.3199990988%.\n",
      "\n",
      "Epoch 161 took 175.624265909 seconds, tr cost 7.41683560567, validation error 16.3199990988%.\n",
      "\n",
      "INFO:root:Epoch 162 took 175.709233999 seconds, tr cost 7.43321603891, validation error 16.4600014687%.\n",
      "\n",
      "Epoch 162 took 175.709233999 seconds, tr cost 7.43321603891, validation error 16.4600014687%.\n",
      "\n",
      "INFO:root:Epoch 163 took 176.055196047 seconds, tr cost 7.35631422489, validation error 16.2800014019%.\n",
      "\n",
      "Epoch 163 took 176.055196047 seconds, tr cost 7.35631422489, validation error 16.2800014019%.\n",
      "\n",
      "INFO:root:Epoch 164 took 175.5157938 seconds, tr cost 7.73337378326, validation error 16.3400024176%.\n",
      "\n",
      "Epoch 164 took 175.5157938 seconds, tr cost 7.73337378326, validation error 16.3400024176%.\n",
      "\n",
      "INFO:root:Epoch 165 took 175.507534981 seconds, tr cost 7.51215544767, validation error 16.6400030255%.\n",
      "\n",
      "Epoch 165 took 175.507534981 seconds, tr cost 7.51215544767, validation error 16.6400030255%.\n",
      "\n",
      "INFO:root:Epoch 166 took 175.777786016 seconds, tr cost 7.63647853343, validation error 16.620002687%.\n",
      "\n",
      "Epoch 166 took 175.777786016 seconds, tr cost 7.63647853343, validation error 16.620002687%.\n",
      "\n",
      "INFO:root:Epoch 167 took 175.57011199 seconds, tr cost 7.41609847426, validation error 16.5000021458%.\n",
      "\n",
      "Epoch 167 took 175.57011199 seconds, tr cost 7.41609847426, validation error 16.5000021458%.\n",
      "\n",
      "INFO:root:Epoch 168 took 175.575651884 seconds, tr cost 7.7810465168, validation error 16.5000021458%.\n",
      "\n",
      "Epoch 168 took 175.575651884 seconds, tr cost 7.7810465168, validation error 16.5000021458%.\n",
      "\n",
      "INFO:root:Epoch 169 took 175.356543064 seconds, tr cost 7.4349265779, validation error 16.4200022817%.\n",
      "\n",
      "Epoch 169 took 175.356543064 seconds, tr cost 7.4349265779, validation error 16.4200022817%.\n",
      "\n",
      "INFO:root:Epoch 170 took 175.89604497 seconds, tr cost 7.55693962672, validation error 16.5200024843%.\n",
      "\n",
      "Epoch 170 took 175.89604497 seconds, tr cost 7.55693962672, validation error 16.5200024843%.\n",
      "\n",
      "INFO:root:Epoch 171 took 175.665836096 seconds, tr cost 7.1780836745, validation error 16.6999995708%.\n",
      "\n",
      "Epoch 171 took 175.665836096 seconds, tr cost 7.1780836745, validation error 16.6999995708%.\n",
      "\n",
      "INFO:root:Epoch 172 took 175.459883928 seconds, tr cost 7.38921493993, validation error 16.5600016713%.\n",
      "\n",
      "Epoch 172 took 175.459883928 seconds, tr cost 7.38921493993, validation error 16.5600016713%.\n",
      "\n",
      "INFO:root:Epoch 173 took 175.440032005 seconds, tr cost 7.71478296153, validation error 16.2600025535%.\n",
      "\n",
      "Epoch 173 took 175.440032005 seconds, tr cost 7.71478296153, validation error 16.2600025535%.\n",
      "\n",
      "INFO:root:Epoch 174 took 175.737532139 seconds, tr cost 7.57313485985, validation error 16.3800016046%.\n",
      "\n",
      "Epoch 174 took 175.737532139 seconds, tr cost 7.57313485985, validation error 16.3800016046%.\n",
      "\n",
      "INFO:root:Epoch 175 took 175.748870134 seconds, tr cost 7.55132114817, validation error 16.6400015354%.\n",
      "\n",
      "Epoch 175 took 175.748870134 seconds, tr cost 7.55132114817, validation error 16.6400015354%.\n",
      "\n",
      "INFO:root:Epoch 176 took 175.437586069 seconds, tr cost 7.4696474617, validation error 16.5800005198%.\n",
      "\n",
      "Epoch 176 took 175.437586069 seconds, tr cost 7.4696474617, validation error 16.5800005198%.\n",
      "\n",
      "INFO:root:Epoch 177 took 175.687680006 seconds, tr cost 7.65782990708, validation error 16.3400024176%.\n",
      "\n",
      "Epoch 177 took 175.687680006 seconds, tr cost 7.65782990708, validation error 16.3400024176%.\n",
      "\n",
      "INFO:root:Epoch 178 took 175.477974176 seconds, tr cost 7.22996822034, validation error 16.4800032973%.\n",
      "\n",
      "Epoch 178 took 175.477974176 seconds, tr cost 7.22996822034, validation error 16.4800032973%.\n",
      "\n",
      "INFO:root:Epoch 179 took 175.693293095 seconds, tr cost 7.3728742287, validation error 16.5800005198%.\n",
      "\n",
      "Epoch 179 took 175.693293095 seconds, tr cost 7.3728742287, validation error 16.5800005198%.\n",
      "\n",
      "INFO:root:Epoch 180 took 175.720351934 seconds, tr cost 7.36199084737, validation error 16.6400015354%.\n",
      "\n",
      "Epoch 180 took 175.720351934 seconds, tr cost 7.36199084737, validation error 16.6400015354%.\n",
      "\n",
      "INFO:root:Epoch 181 took 175.614479065 seconds, tr cost 7.16303207044, validation error 16.5200024843%.\n",
      "\n",
      "Epoch 181 took 175.614479065 seconds, tr cost 7.16303207044, validation error 16.5200024843%.\n",
      "\n",
      "INFO:root:Epoch 182 took 176.052581072 seconds, tr cost 7.40256122955, validation error 16.7400017381%.\n",
      "\n",
      "Epoch 182 took 176.052581072 seconds, tr cost 7.40256122955, validation error 16.7400017381%.\n",
      "\n",
      "INFO:root:Epoch 183 took 175.569065809 seconds, tr cost 7.45771751958, validation error 16.6000023484%.\n",
      "\n",
      "Epoch 183 took 175.569065809 seconds, tr cost 7.45771751958, validation error 16.6000023484%.\n",
      "\n",
      "INFO:root:Epoch 184 took 176.220429182 seconds, tr cost 7.24059499234, validation error 16.7600005865%.\n",
      "\n",
      "Epoch 184 took 176.220429182 seconds, tr cost 7.24059499234, validation error 16.7600005865%.\n",
      "\n",
      "INFO:root:Epoch 185 took 175.82694912 seconds, tr cost 7.67342389332, validation error 16.6600003839%.\n",
      "\n",
      "Epoch 185 took 175.82694912 seconds, tr cost 7.67342389332, validation error 16.6600003839%.\n",
      "\n",
      "INFO:root:Epoch 186 took 175.651781082 seconds, tr cost 7.35613890146, validation error 16.7600020766%.\n",
      "\n",
      "Epoch 186 took 175.651781082 seconds, tr cost 7.35613890146, validation error 16.7600020766%.\n",
      "\n",
      "INFO:root:Epoch 187 took 175.399683952 seconds, tr cost 7.337153258, validation error 16.8000027537%.\n",
      "\n",
      "Epoch 187 took 175.399683952 seconds, tr cost 7.337153258, validation error 16.8000027537%.\n",
      "\n",
      "INFO:root:Epoch 188 took 175.941702127 seconds, tr cost 7.29188863642, validation error 16.2999987602%.\n",
      "\n",
      "Epoch 188 took 175.941702127 seconds, tr cost 7.29188863642, validation error 16.2999987602%.\n",
      "\n",
      "INFO:root:Epoch 189 took 175.438613892 seconds, tr cost 7.6002137353, validation error 16.5000021458%.\n",
      "\n",
      "Epoch 189 took 175.438613892 seconds, tr cost 7.6002137353, validation error 16.5000021458%.\n",
      "\n",
      "INFO:root:Epoch 190 took 175.71943593 seconds, tr cost 7.2951223687, validation error 16.7600020766%.\n",
      "\n",
      "Epoch 190 took 175.71943593 seconds, tr cost 7.2951223687, validation error 16.7600020766%.\n",
      "\n",
      "INFO:root:Epoch 191 took 175.666996002 seconds, tr cost 7.32501909506, validation error 16.5600016713%.\n",
      "\n",
      "Epoch 191 took 175.666996002 seconds, tr cost 7.32501909506, validation error 16.5600016713%.\n",
      "\n",
      "INFO:root:Epoch 192 took 175.356719017 seconds, tr cost 7.47399656277, validation error 16.7400017381%.\n",
      "\n",
      "Epoch 192 took 175.356719017 seconds, tr cost 7.47399656277, validation error 16.7400017381%.\n",
      "\n",
      "INFO:root:Epoch 193 took 175.547192812 seconds, tr cost 7.48710568369, validation error 16.5800020099%.\n",
      "\n",
      "Epoch 193 took 175.547192812 seconds, tr cost 7.48710568369, validation error 16.5800020099%.\n",
      "\n",
      "INFO:root:Epoch 194 took 176.001043081 seconds, tr cost 7.30512100882, validation error 16.4600029588%.\n",
      "\n",
      "Epoch 194 took 176.001043081 seconds, tr cost 7.30512100882, validation error 16.4600029588%.\n",
      "\n",
      "INFO:root:Epoch 195 took 175.790178061 seconds, tr cost 7.49617837266, validation error 16.7200013995%.\n",
      "\n",
      "Epoch 195 took 175.790178061 seconds, tr cost 7.49617837266, validation error 16.7200013995%.\n",
      "\n",
      "INFO:root:Epoch 196 took 175.800036907 seconds, tr cost 7.55643512371, validation error 16.5800020099%.\n",
      "\n",
      "Epoch 196 took 175.800036907 seconds, tr cost 7.55643512371, validation error 16.5800020099%.\n",
      "\n",
      "INFO:root:Epoch 197 took 175.622918129 seconds, tr cost 7.22805982617, validation error 16.4000034332%.\n",
      "\n",
      "Epoch 197 took 175.622918129 seconds, tr cost 7.22805982617, validation error 16.4000034332%.\n",
      "\n",
      "INFO:root:Epoch 198 took 175.782305002 seconds, tr cost 7.23684634278, validation error 16.5000021458%.\n",
      "\n",
      "Epoch 198 took 175.782305002 seconds, tr cost 7.23684634278, validation error 16.5000021458%.\n",
      "\n",
      "INFO:root:Epoch 199 took 175.633385897 seconds, tr cost 7.25576548786, validation error 16.3399994373%.\n",
      "\n",
      "Epoch 199 took 175.633385897 seconds, tr cost 7.25576548786, validation error 16.3399994373%.\n",
      "\n",
      "INFO:root:Epoch 200 took 175.622197866 seconds, tr cost 7.28123236533, validation error 16.3800016046%.\n",
      "\n",
      "Epoch 200 took 175.622197866 seconds, tr cost 7.28123236533, validation error 16.3800016046%.\n",
      "\n",
      "INFO:root:Epoch 201 took 175.915939808 seconds, tr cost 7.10269517578, validation error 16.4600014687%.\n",
      "\n",
      "Epoch 201 took 175.915939808 seconds, tr cost 7.10269517578, validation error 16.4600014687%.\n",
      "\n",
      "INFO:root:Epoch 202 took 176.102909088 seconds, tr cost 7.22108296303, validation error 16.4400011301%.\n",
      "\n",
      "Epoch 202 took 176.102909088 seconds, tr cost 7.22108296303, validation error 16.4400011301%.\n",
      "\n",
      "INFO:root:Epoch 203 took 175.779860973 seconds, tr cost 7.37913796845, validation error 16.5800020099%.\n",
      "\n",
      "Epoch 203 took 175.779860973 seconds, tr cost 7.37913796845, validation error 16.5800020099%.\n",
      "\n",
      "INFO:root:Epoch 204 took 175.733970881 seconds, tr cost 7.02728239272, validation error 16.700001061%.\n",
      "\n",
      "Epoch 204 took 175.733970881 seconds, tr cost 7.02728239272, validation error 16.700001061%.\n",
      "\n",
      "INFO:root:Epoch 205 took 175.773468018 seconds, tr cost 7.36654403478, validation error 16.4400026202%.\n",
      "\n",
      "Epoch 205 took 175.773468018 seconds, tr cost 7.36654403478, validation error 16.4400026202%.\n",
      "\n",
      "INFO:root:Epoch 206 took 175.459964991 seconds, tr cost 7.18950646994, validation error 16.7800009251%.\n",
      "\n",
      "Epoch 206 took 175.459964991 seconds, tr cost 7.18950646994, validation error 16.7800009251%.\n",
      "\n",
      "INFO:root:Epoch 207 took 175.86540103 seconds, tr cost 7.18096843559, validation error 16.6800022125%.\n",
      "\n",
      "Epoch 207 took 175.86540103 seconds, tr cost 7.18096843559, validation error 16.6800022125%.\n",
      "\n",
      "INFO:root:Epoch 208 took 175.600776911 seconds, tr cost 7.27595169744, validation error 16.6400030255%.\n",
      "\n",
      "Epoch 208 took 175.600776911 seconds, tr cost 7.27595169744, validation error 16.6400030255%.\n",
      "\n",
      "INFO:root:Epoch 209 took 175.5213871 seconds, tr cost 7.32318666962, validation error 16.5800020099%.\n",
      "\n",
      "Epoch 209 took 175.5213871 seconds, tr cost 7.32318666962, validation error 16.5800020099%.\n",
      "\n",
      "INFO:root:Epoch 210 took 175.573668003 seconds, tr cost 7.20194777407, validation error 16.4000019431%.\n",
      "\n",
      "Epoch 210 took 175.573668003 seconds, tr cost 7.20194777407, validation error 16.4000019431%.\n",
      "\n",
      "INFO:root:Epoch 211 took 175.597321033 seconds, tr cost 7.03061342429, validation error 16.660001874%.\n",
      "\n",
      "Epoch 211 took 175.597321033 seconds, tr cost 7.03061342429, validation error 16.660001874%.\n",
      "\n",
      "INFO:root:Epoch 212 took 175.416413069 seconds, tr cost 7.25930557456, validation error 16.3800016046%.\n",
      "\n",
      "Epoch 212 took 175.416413069 seconds, tr cost 7.25930557456, validation error 16.3800016046%.\n",
      "\n",
      "INFO:root:Epoch 213 took 176.000215054 seconds, tr cost 7.20258319049, validation error 16.5600016713%.\n",
      "\n",
      "Epoch 213 took 176.000215054 seconds, tr cost 7.20258319049, validation error 16.5600016713%.\n",
      "\n",
      "INFO:root:Epoch 214 took 175.576442957 seconds, tr cost 7.17956830258, validation error 16.5000021458%.\n",
      "\n",
      "Epoch 214 took 175.576442957 seconds, tr cost 7.17956830258, validation error 16.5000021458%.\n",
      "\n",
      "INFO:root:Epoch 215 took 176.05131793 seconds, tr cost 7.26282383924, validation error 16.620002687%.\n",
      "\n",
      "Epoch 215 took 176.05131793 seconds, tr cost 7.26282383924, validation error 16.620002687%.\n",
      "\n",
      "INFO:root:Epoch 216 took 175.45486021 seconds, tr cost 6.96103644049, validation error 16.8999999762%.\n",
      "\n",
      "Epoch 216 took 175.45486021 seconds, tr cost 6.96103644049, validation error 16.8999999762%.\n",
      "\n",
      "INFO:root:Epoch 217 took 175.730233908 seconds, tr cost 7.08746488205, validation error 16.4400011301%.\n",
      "\n",
      "Epoch 217 took 175.730233908 seconds, tr cost 7.08746488205, validation error 16.4400011301%.\n",
      "\n",
      "INFO:root:Epoch 218 took 175.625822067 seconds, tr cost 7.45689561674, validation error 16.4000019431%.\n",
      "\n",
      "Epoch 218 took 175.625822067 seconds, tr cost 7.45689561674, validation error 16.4000019431%.\n",
      "\n",
      "INFO:root:Epoch 219 took 176.096509933 seconds, tr cost 7.04178425017, validation error 16.3199990988%.\n",
      "\n",
      "Epoch 219 took 176.096509933 seconds, tr cost 7.04178425017, validation error 16.3199990988%.\n",
      "\n",
      "INFO:root:Epoch 220 took 175.884153128 seconds, tr cost 7.25628668152, validation error 16.8800026178%.\n",
      "\n",
      "Epoch 220 took 175.884153128 seconds, tr cost 7.25628668152, validation error 16.8800026178%.\n",
      "\n",
      "INFO:root:Epoch 221 took 175.822536945 seconds, tr cost 7.12823502734, validation error 16.6000008583%.\n",
      "\n",
      "Epoch 221 took 175.822536945 seconds, tr cost 7.12823502734, validation error 16.6000008583%.\n",
      "\n",
      "INFO:root:Epoch 222 took 175.532914877 seconds, tr cost 7.04832343386, validation error 16.3800016046%.\n",
      "\n",
      "Epoch 222 took 175.532914877 seconds, tr cost 7.04832343386, validation error 16.3800016046%.\n",
      "\n",
      "INFO:root:Epoch 223 took 175.555565834 seconds, tr cost 6.96088619375, validation error 16.6800007224%.\n",
      "\n",
      "Epoch 223 took 175.555565834 seconds, tr cost 6.96088619375, validation error 16.6800007224%.\n",
      "\n",
      "INFO:root:Epoch 224 took 175.757318974 seconds, tr cost 7.18581081266, validation error 16.6000023484%.\n",
      "\n",
      "Epoch 224 took 175.757318974 seconds, tr cost 7.18581081266, validation error 16.6000023484%.\n",
      "\n",
      "INFO:root:Epoch 225 took 175.563147068 seconds, tr cost 7.45367918387, validation error 16.7200013995%.\n",
      "\n",
      "Epoch 225 took 175.563147068 seconds, tr cost 7.45367918387, validation error 16.7200013995%.\n",
      "\n",
      "INFO:root:Epoch 226 took 175.692290783 seconds, tr cost 7.06066572768, validation error 16.5000021458%.\n",
      "\n",
      "Epoch 226 took 175.692290783 seconds, tr cost 7.06066572768, validation error 16.5000021458%.\n",
      "\n",
      "INFO:root:Epoch 227 took 175.972199917 seconds, tr cost 7.31348780896, validation error 16.4800018072%.\n",
      "\n",
      "Epoch 227 took 175.972199917 seconds, tr cost 7.31348780896, validation error 16.4800018072%.\n",
      "\n",
      "INFO:root:Epoch 228 took 175.886146069 seconds, tr cost 7.33585388024, validation error 16.5800005198%.\n",
      "\n",
      "Epoch 228 took 175.886146069 seconds, tr cost 7.33585388024, validation error 16.5800005198%.\n",
      "\n",
      "INFO:root:Epoch 229 took 175.559647083 seconds, tr cost 7.06558860898, validation error 16.6200011969%.\n",
      "\n",
      "Epoch 229 took 175.559647083 seconds, tr cost 7.06558860898, validation error 16.6200011969%.\n",
      "\n",
      "INFO:root:Epoch 230 took 175.766911983 seconds, tr cost 6.85241599457, validation error 16.1800026894%.\n",
      "\n",
      "Epoch 230 took 175.766911983 seconds, tr cost 6.85241599457, validation error 16.1800026894%.\n",
      "\n",
      "INFO:root:Epoch 231 took 175.986713171 seconds, tr cost 7.29214686784, validation error 16.5800005198%.\n",
      "\n",
      "Epoch 231 took 175.986713171 seconds, tr cost 7.29214686784, validation error 16.5800005198%.\n",
      "\n",
      "INFO:root:Epoch 232 took 175.894711971 seconds, tr cost 7.44077705164, validation error 16.5400013328%.\n",
      "\n",
      "Epoch 232 took 175.894711971 seconds, tr cost 7.44077705164, validation error 16.5400013328%.\n",
      "\n",
      "INFO:root:Epoch 233 took 175.741657972 seconds, tr cost 7.21081642773, validation error 16.6200011969%.\n",
      "\n",
      "Epoch 233 took 175.741657972 seconds, tr cost 7.21081642773, validation error 16.6200011969%.\n",
      "\n",
      "INFO:root:Epoch 234 took 175.793375969 seconds, tr cost 7.19006687856, validation error 16.5000006557%.\n",
      "\n",
      "Epoch 234 took 175.793375969 seconds, tr cost 7.19006687856, validation error 16.5000006557%.\n",
      "\n",
      "INFO:root:Epoch 235 took 175.852551937 seconds, tr cost 6.84449857657, validation error 16.6200011969%.\n",
      "\n",
      "Epoch 235 took 175.852551937 seconds, tr cost 6.84449857657, validation error 16.6200011969%.\n",
      "\n",
      "INFO:root:Epoch 236 took 175.490395069 seconds, tr cost 7.10523017764, validation error 16.8200030923%.\n",
      "\n",
      "Epoch 236 took 175.490395069 seconds, tr cost 7.10523017764, validation error 16.8200030923%.\n",
      "\n",
      "INFO:root:Epoch 237 took 172.338307142 seconds, tr cost 7.47733738422, validation error 16.6000023484%.\n",
      "\n",
      "Epoch 237 took 172.338307142 seconds, tr cost 7.47733738422, validation error 16.6000023484%.\n",
      "\n",
      "INFO:root:Epoch 238 took 172.375080109 seconds, tr cost 7.54763835913, validation error 16.7200013995%.\n",
      "\n",
      "Epoch 238 took 172.375080109 seconds, tr cost 7.54763835913, validation error 16.7200013995%.\n",
      "\n",
      "INFO:root:Epoch 239 took 172.348850965 seconds, tr cost 7.01410786116, validation error 16.6800022125%.\n",
      "\n",
      "Epoch 239 took 172.348850965 seconds, tr cost 7.01410786116, validation error 16.6800022125%.\n",
      "\n",
      "INFO:root:Epoch 240 took 172.440077066 seconds, tr cost 7.3678009048, validation error 16.4800018072%.\n",
      "\n",
      "Epoch 240 took 172.440077066 seconds, tr cost 7.3678009048, validation error 16.4800018072%.\n",
      "\n",
      "INFO:root:Epoch 241 took 172.286082029 seconds, tr cost 7.17167637175, validation error 16.6000023484%.\n",
      "\n",
      "Epoch 241 took 172.286082029 seconds, tr cost 7.17167637175, validation error 16.6000023484%.\n",
      "\n",
      "INFO:root:Epoch 242 took 172.385351181 seconds, tr cost 7.1383493017, validation error 16.6600003839%.\n",
      "\n",
      "Epoch 242 took 172.385351181 seconds, tr cost 7.1383493017, validation error 16.6600003839%.\n",
      "\n",
      "INFO:root:Epoch 243 took 172.308846951 seconds, tr cost 7.08814410047, validation error 16.6400030255%.\n",
      "\n",
      "Epoch 243 took 172.308846951 seconds, tr cost 7.08814410047, validation error 16.6400030255%.\n",
      "\n",
      "INFO:root:Epoch 244 took 172.49968195 seconds, tr cost 6.95081780005, validation error 16.4400011301%.\n",
      "\n",
      "Epoch 244 took 172.49968195 seconds, tr cost 6.95081780005, validation error 16.4400011301%.\n",
      "\n",
      "INFO:root:Epoch 245 took 172.276453972 seconds, tr cost 7.22307050578, validation error 16.4800018072%.\n",
      "\n",
      "Epoch 245 took 172.276453972 seconds, tr cost 7.22307050578, validation error 16.4800018072%.\n",
      "\n",
      "INFO:root:Epoch 246 took 172.489635944 seconds, tr cost 7.29693524516, validation error 16.6000023484%.\n",
      "\n",
      "Epoch 246 took 172.489635944 seconds, tr cost 7.29693524516, validation error 16.6000023484%.\n",
      "\n",
      "INFO:root:Epoch 247 took 172.322960854 seconds, tr cost 7.19967956045, validation error 16.7800009251%.\n",
      "\n",
      "Epoch 247 took 172.322960854 seconds, tr cost 7.19967956045, validation error 16.7800009251%.\n",
      "\n",
      "INFO:root:Epoch 248 took 172.436510086 seconds, tr cost 7.42981377744, validation error 16.4800018072%.\n",
      "\n",
      "Epoch 248 took 172.436510086 seconds, tr cost 7.42981377744, validation error 16.4800018072%.\n",
      "\n",
      "INFO:root:Epoch 249 took 172.452162981 seconds, tr cost 7.49586514036, validation error 16.6000023484%.\n",
      "\n",
      "Epoch 249 took 172.452162981 seconds, tr cost 7.49586514036, validation error 16.6000023484%.\n",
      "\n",
      "INFO:root:Epoch 250 took 172.334475994 seconds, tr cost 6.96643570379, validation error 16.6800007224%.\n",
      "\n",
      "Epoch 250 took 172.334475994 seconds, tr cost 6.96643570379, validation error 16.6800007224%.\n",
      "\n"
     ]
    },
    {
     "name": "stdout",
     "output_type": "stream",
     "text": [
      "\n",
      "Optimization complete.\n",
      "Best validation score of 16.020003 % obtained at epoch 146, with test performance 17.209999 %\n",
      "Training finished.\n",
      "\n"
     ]
    }
   ],
   "source": [
    "# train the network\n",
    "\n",
    "# no regularization\n",
    "print('Stochastic binarization training...')\n",
    "tr_cost_sto_bi, cv_error_sto_bi = train_nn(train_model, validate_model, test_model, learning_rate, \n",
    "                n_train_batches, n_valid_batches, n_test_batches, n_epoch,\n",
    "                verbose = True)\n",
    "print ('Training finished.\\n')"
   ]
  },
  {
   "cell_type": "code",
   "execution_count": 11,
   "metadata": {
    "collapsed": false
   },
   "outputs": [
    {
     "data": {
      "image/png": "[encoded data removed]",
      "text/plain": [
       "<matplotlib.figure.Figure at 0x7fa7d9951e50>"
      ]
     },
     "metadata": {},
     "output_type": "display_data"
    }
   ],
   "source": [
    "import matplotlib.pyplot as plt\n",
    "%matplotlib inline\n",
    "plt.plot(tr_cost_sto_bi / max(tr_cost_sto_bi),'r--')\n",
    "plt.plot(cv_error_sto_bi,'b')\n",
    "plt.show()"
   ]
  },
  {
   "cell_type": "code",
   "execution_count": 13,
   "metadata": {
    "collapsed": false
   },
   "outputs": [],
   "source": [
    "# save to .npz\n",
    "np.save('sto_binary', [tr_cost_sto_bi, cv_error_sto_bi])"
   ]
  }
 ],
 "metadata": {
  "kernelspec": {
   "display_name": "Python 2",
   "language": "python",
   "name": "python2"
  },
  "language_info": {
   "codemirror_mode": {
    "name": "ipython",
    "version": 2
   },
   "file_extension": ".py",
   "mimetype": "text/x-python",
   "name": "python",
   "nbconvert_exporter": "python",
   "pygments_lexer": "ipython2",
   "version": "2.7.6"
  }
 },
 "nbformat": 4,
 "nbformat_minor": 0
}
